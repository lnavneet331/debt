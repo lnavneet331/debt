{
 "cells": [
  {
   "cell_type": "code",
   "execution_count": 2,
   "metadata": {},
   "outputs": [
    {
     "name": "stdout",
     "output_type": "stream",
     "text": [
      "Requirement already satisfied: matplotlib in /home/codespace/.local/lib/python3.10/site-packages (3.7.1)\n",
      "Requirement already satisfied: fonttools>=4.22.0 in /home/codespace/.local/lib/python3.10/site-packages (from matplotlib) (4.39.0)\n",
      "Requirement already satisfied: contourpy>=1.0.1 in /home/codespace/.local/lib/python3.10/site-packages (from matplotlib) (1.0.7)\n",
      "Requirement already satisfied: numpy>=1.20 in /home/codespace/.local/lib/python3.10/site-packages (from matplotlib) (1.24.2)\n",
      "Requirement already satisfied: packaging>=20.0 in /home/codespace/.local/lib/python3.10/site-packages (from matplotlib) (23.0)\n",
      "Requirement already satisfied: kiwisolver>=1.0.1 in /home/codespace/.local/lib/python3.10/site-packages (from matplotlib) (1.4.4)\n",
      "Requirement already satisfied: pyparsing>=2.3.1 in /home/codespace/.local/lib/python3.10/site-packages (from matplotlib) (3.0.9)\n",
      "Requirement already satisfied: cycler>=0.10 in /home/codespace/.local/lib/python3.10/site-packages (from matplotlib) (0.11.0)\n",
      "Requirement already satisfied: python-dateutil>=2.7 in /home/codespace/.local/lib/python3.10/site-packages (from matplotlib) (2.8.2)\n",
      "Requirement already satisfied: pillow>=6.2.0 in /home/codespace/.local/lib/python3.10/site-packages (from matplotlib) (9.4.0)\n",
      "Requirement already satisfied: six>=1.5 in /home/codespace/.local/lib/python3.10/site-packages (from python-dateutil>=2.7->matplotlib) (1.16.0)\n",
      "Requirement already satisfied: pandas in /home/codespace/.local/lib/python3.10/site-packages (1.5.3)\n",
      "Requirement already satisfied: pytz>=2020.1 in /home/codespace/.local/lib/python3.10/site-packages (from pandas) (2022.7.1)\n",
      "Requirement already satisfied: python-dateutil>=2.8.1 in /home/codespace/.local/lib/python3.10/site-packages (from pandas) (2.8.2)\n",
      "Requirement already satisfied: numpy>=1.21.0 in /home/codespace/.local/lib/python3.10/site-packages (from pandas) (1.24.2)\n",
      "Requirement already satisfied: six>=1.5 in /home/codespace/.local/lib/python3.10/site-packages (from python-dateutil>=2.8.1->pandas) (1.16.0)\n",
      "Requirement already satisfied: seaborn in /home/codespace/.local/lib/python3.10/site-packages (0.12.2)\n",
      "Requirement already satisfied: numpy!=1.24.0,>=1.17 in /home/codespace/.local/lib/python3.10/site-packages (from seaborn) (1.24.2)\n",
      "Requirement already satisfied: matplotlib!=3.6.1,>=3.1 in /home/codespace/.local/lib/python3.10/site-packages (from seaborn) (3.7.1)\n",
      "Requirement already satisfied: pandas>=0.25 in /home/codespace/.local/lib/python3.10/site-packages (from seaborn) (1.5.3)\n",
      "Requirement already satisfied: pillow>=6.2.0 in /home/codespace/.local/lib/python3.10/site-packages (from matplotlib!=3.6.1,>=3.1->seaborn) (9.4.0)\n",
      "Requirement already satisfied: cycler>=0.10 in /home/codespace/.local/lib/python3.10/site-packages (from matplotlib!=3.6.1,>=3.1->seaborn) (0.11.0)\n",
      "Requirement already satisfied: fonttools>=4.22.0 in /home/codespace/.local/lib/python3.10/site-packages (from matplotlib!=3.6.1,>=3.1->seaborn) (4.39.0)\n",
      "Requirement already satisfied: pyparsing>=2.3.1 in /home/codespace/.local/lib/python3.10/site-packages (from matplotlib!=3.6.1,>=3.1->seaborn) (3.0.9)\n",
      "Requirement already satisfied: contourpy>=1.0.1 in /home/codespace/.local/lib/python3.10/site-packages (from matplotlib!=3.6.1,>=3.1->seaborn) (1.0.7)\n",
      "Requirement already satisfied: kiwisolver>=1.0.1 in /home/codespace/.local/lib/python3.10/site-packages (from matplotlib!=3.6.1,>=3.1->seaborn) (1.4.4)\n",
      "Requirement already satisfied: packaging>=20.0 in /home/codespace/.local/lib/python3.10/site-packages (from matplotlib!=3.6.1,>=3.1->seaborn) (23.0)\n",
      "Requirement already satisfied: python-dateutil>=2.7 in /home/codespace/.local/lib/python3.10/site-packages (from matplotlib!=3.6.1,>=3.1->seaborn) (2.8.2)\n",
      "Requirement already satisfied: pytz>=2020.1 in /home/codespace/.local/lib/python3.10/site-packages (from pandas>=0.25->seaborn) (2022.7.1)\n",
      "Requirement already satisfied: six>=1.5 in /home/codespace/.local/lib/python3.10/site-packages (from python-dateutil>=2.7->matplotlib!=3.6.1,>=3.1->seaborn) (1.16.0)\n"
     ]
    }
   ],
   "source": [
    "!pip install matplotlib\n",
    "!pip install pandas\n",
    "!pip install seaborn"
   ]
  },
  {
   "cell_type": "code",
   "execution_count": 3,
   "metadata": {},
   "outputs": [],
   "source": [
    "import matplotlib as plt\n",
    "import pandas as pd\n",
    "import numpy as np"
   ]
  },
  {
   "cell_type": "code",
   "execution_count": 4,
   "metadata": {},
   "outputs": [],
   "source": [
    "df = pd.read_csv('china_debt_trap.csv')"
   ]
  },
  {
   "cell_type": "code",
   "execution_count": 5,
   "metadata": {},
   "outputs": [
    {
     "data": {
      "text/html": [
       "<div>\n",
       "<style scoped>\n",
       "    .dataframe tbody tr th:only-of-type {\n",
       "        vertical-align: middle;\n",
       "    }\n",
       "\n",
       "    .dataframe tbody tr th {\n",
       "        vertical-align: top;\n",
       "    }\n",
       "\n",
       "    .dataframe thead th {\n",
       "        text-align: right;\n",
       "    }\n",
       "</style>\n",
       "<table border=\"1\" class=\"dataframe\">\n",
       "  <thead>\n",
       "    <tr style=\"text-align: right;\">\n",
       "      <th></th>\n",
       "      <th>Expand All | Collapse All</th>\n",
       "      <th>YEAR</th>\n",
       "      <th>AMOUNT</th>\n",
       "      <th>LENDER</th>\n",
       "      <th>BORROWER</th>\n",
       "      <th>SECTOR</th>\n",
       "      <th>SENSITIVE TERRITORY OVERLAP</th>\n",
       "      <th>Country</th>\n",
       "    </tr>\n",
       "  </thead>\n",
       "  <tbody>\n",
       "    <tr>\n",
       "      <th>0</th>\n",
       "      <td>“Lar Patriota\" Infrastructure (Phase 1)</td>\n",
       "      <td>2011</td>\n",
       "      <td>$50M</td>\n",
       "      <td>CDB</td>\n",
       "      <td>Government</td>\n",
       "      <td>Transport</td>\n",
       "      <td>None Known</td>\n",
       "      <td>Angola</td>\n",
       "    </tr>\n",
       "    <tr>\n",
       "      <th>1</th>\n",
       "      <td>10-Year Oil Supply Plan (10Mt/Year), \"Oil for ...</td>\n",
       "      <td>2009</td>\n",
       "      <td>$7.0B</td>\n",
       "      <td>CDB</td>\n",
       "      <td>Petrobras</td>\n",
       "      <td>Extraction, pipelines</td>\n",
       "      <td>None Known</td>\n",
       "      <td>Brazil</td>\n",
       "    </tr>\n",
       "    <tr>\n",
       "      <th>2</th>\n",
       "      <td>1000 housing project</td>\n",
       "      <td>2012</td>\n",
       "      <td>$47M</td>\n",
       "      <td>ExImBank</td>\n",
       "      <td>Government</td>\n",
       "      <td>Government</td>\n",
       "      <td>None Known</td>\n",
       "      <td>Suriname</td>\n",
       "    </tr>\n",
       "    <tr>\n",
       "      <th>3</th>\n",
       "      <td>115kV Transmission Line and Substation from Ph...</td>\n",
       "      <td>2009</td>\n",
       "      <td>$475M</td>\n",
       "      <td>ExImBank</td>\n",
       "      <td>Electricite Du Cambodge</td>\n",
       "      <td>Power</td>\n",
       "      <td>None Known</td>\n",
       "      <td>Cambodia</td>\n",
       "    </tr>\n",
       "    <tr>\n",
       "      <th>4</th>\n",
       "      <td>151 Multisector infrastructure projects</td>\n",
       "      <td>2016</td>\n",
       "      <td>$600M</td>\n",
       "      <td>CDB</td>\n",
       "      <td>Central Bank of Kenya</td>\n",
       "      <td>Mulit-sector/discretionary</td>\n",
       "      <td>None Known</td>\n",
       "      <td>Kenya</td>\n",
       "    </tr>\n",
       "  </tbody>\n",
       "</table>\n",
       "</div>"
      ],
      "text/plain": [
       "                           Expand All | Collapse All  YEAR AMOUNT    LENDER  \\\n",
       "0            “Lar Patriota\" Infrastructure (Phase 1)  2011   $50M       CDB   \n",
       "1  10-Year Oil Supply Plan (10Mt/Year), \"Oil for ...  2009  $7.0B       CDB   \n",
       "2                               1000 housing project  2012   $47M  ExImBank   \n",
       "3  115kV Transmission Line and Substation from Ph...  2009  $475M  ExImBank   \n",
       "4            151 Multisector infrastructure projects  2016  $600M       CDB   \n",
       "\n",
       "                  BORROWER                      SECTOR  \\\n",
       "0               Government                   Transport   \n",
       "1                Petrobras       Extraction, pipelines   \n",
       "2               Government                  Government   \n",
       "3  Electricite Du Cambodge                       Power   \n",
       "4    Central Bank of Kenya  Mulit-sector/discretionary   \n",
       "\n",
       "  SENSITIVE TERRITORY OVERLAP   Country  \n",
       "0                  None Known    Angola  \n",
       "1                  None Known    Brazil  \n",
       "2                  None Known  Suriname  \n",
       "3                  None Known  Cambodia  \n",
       "4                  None Known     Kenya  "
      ]
     },
     "execution_count": 5,
     "metadata": {},
     "output_type": "execute_result"
    }
   ],
   "source": [
    "df.head()"
   ]
  },
  {
   "cell_type": "code",
   "execution_count": 6,
   "metadata": {},
   "outputs": [
    {
     "name": "stdout",
     "output_type": "stream",
     "text": [
      "<class 'pandas.core.frame.DataFrame'>\n",
      "RangeIndex: 858 entries, 0 to 857\n",
      "Data columns (total 8 columns):\n",
      " #   Column                       Non-Null Count  Dtype \n",
      "---  ------                       --------------  ----- \n",
      " 0   Expand All | Collapse All    858 non-null    object\n",
      " 1   YEAR                         858 non-null    int64 \n",
      " 2   AMOUNT                       858 non-null    object\n",
      " 3   LENDER                       858 non-null    object\n",
      " 4   BORROWER                     857 non-null    object\n",
      " 5   SECTOR                       858 non-null    object\n",
      " 6   SENSITIVE TERRITORY OVERLAP  858 non-null    object\n",
      " 7   Country                      858 non-null    object\n",
      "dtypes: int64(1), object(7)\n",
      "memory usage: 53.8+ KB\n"
     ]
    }
   ],
   "source": [
    "df.info()"
   ]
  },
  {
   "cell_type": "code",
   "execution_count": 7,
   "metadata": {},
   "outputs": [
    {
     "data": {
      "text/html": [
       "<div>\n",
       "<style scoped>\n",
       "    .dataframe tbody tr th:only-of-type {\n",
       "        vertical-align: middle;\n",
       "    }\n",
       "\n",
       "    .dataframe tbody tr th {\n",
       "        vertical-align: top;\n",
       "    }\n",
       "\n",
       "    .dataframe thead th {\n",
       "        text-align: right;\n",
       "    }\n",
       "</style>\n",
       "<table border=\"1\" class=\"dataframe\">\n",
       "  <thead>\n",
       "    <tr style=\"text-align: right;\">\n",
       "      <th></th>\n",
       "      <th>Expand All | Collapse All</th>\n",
       "      <th>YEAR</th>\n",
       "      <th>AMOUNT</th>\n",
       "      <th>LENDER</th>\n",
       "      <th>BORROWER</th>\n",
       "      <th>SECTOR</th>\n",
       "      <th>SENSITIVE TERRITORY OVERLAP</th>\n",
       "      <th>Country</th>\n",
       "    </tr>\n",
       "  </thead>\n",
       "  <tbody>\n",
       "    <tr>\n",
       "      <th>853</th>\n",
       "      <td>Zalingei-El Geneinah Road Construction</td>\n",
       "      <td>2009</td>\n",
       "      <td>$120M</td>\n",
       "      <td>ExImBank</td>\n",
       "      <td>Government</td>\n",
       "      <td>Transport</td>\n",
       "      <td>None Known</td>\n",
       "      <td>Sudan</td>\n",
       "    </tr>\n",
       "    <tr>\n",
       "      <th>854</th>\n",
       "      <td>Zanzibar Airport Terminal 2 Expansion</td>\n",
       "      <td>2010</td>\n",
       "      <td>$73M</td>\n",
       "      <td>ExImBank</td>\n",
       "      <td>Government</td>\n",
       "      <td>Transport</td>\n",
       "      <td>None Known</td>\n",
       "      <td>Tanzania</td>\n",
       "    </tr>\n",
       "    <tr>\n",
       "      <th>855</th>\n",
       "      <td>Zemun-Borca bridge</td>\n",
       "      <td>2009</td>\n",
       "      <td>$217M</td>\n",
       "      <td>ExImBank</td>\n",
       "      <td>Government</td>\n",
       "      <td>Transport</td>\n",
       "      <td>None Known</td>\n",
       "      <td>Serbia</td>\n",
       "    </tr>\n",
       "    <tr>\n",
       "      <th>856</th>\n",
       "      <td>Zongo II Hydropower Station</td>\n",
       "      <td>2011</td>\n",
       "      <td>$367M</td>\n",
       "      <td>ExImBank</td>\n",
       "      <td>Government</td>\n",
       "      <td>Power</td>\n",
       "      <td>None Known</td>\n",
       "      <td>Congo, Democratic Republic of the</td>\n",
       "    </tr>\n",
       "    <tr>\n",
       "      <th>857</th>\n",
       "      <td>Zungeru Hydropower Plant Project</td>\n",
       "      <td>2013</td>\n",
       "      <td>$984M</td>\n",
       "      <td>ExImBank</td>\n",
       "      <td>Government</td>\n",
       "      <td>Power</td>\n",
       "      <td>Within Indigenous Peoples' Lands</td>\n",
       "      <td>Nigeria</td>\n",
       "    </tr>\n",
       "  </tbody>\n",
       "</table>\n",
       "</div>"
      ],
      "text/plain": [
       "                  Expand All | Collapse All  YEAR AMOUNT    LENDER  \\\n",
       "853  Zalingei-El Geneinah Road Construction  2009  $120M  ExImBank   \n",
       "854   Zanzibar Airport Terminal 2 Expansion  2010   $73M  ExImBank   \n",
       "855                      Zemun-Borca bridge  2009  $217M  ExImBank   \n",
       "856             Zongo II Hydropower Station  2011  $367M  ExImBank   \n",
       "857        Zungeru Hydropower Plant Project  2013  $984M  ExImBank   \n",
       "\n",
       "       BORROWER     SECTOR       SENSITIVE TERRITORY OVERLAP  \\\n",
       "853  Government  Transport                        None Known   \n",
       "854  Government  Transport                        None Known   \n",
       "855  Government  Transport                        None Known   \n",
       "856  Government      Power                        None Known   \n",
       "857  Government      Power  Within Indigenous Peoples' Lands   \n",
       "\n",
       "                               Country  \n",
       "853                              Sudan  \n",
       "854                           Tanzania  \n",
       "855                             Serbia  \n",
       "856  Congo, Democratic Republic of the  \n",
       "857                            Nigeria  "
      ]
     },
     "execution_count": 7,
     "metadata": {},
     "output_type": "execute_result"
    }
   ],
   "source": [
    "df.tail()"
   ]
  },
  {
   "cell_type": "code",
   "execution_count": 8,
   "metadata": {},
   "outputs": [
    {
     "data": {
      "text/plain": [
       "array(['Angola', 'Brazil', 'Suriname', 'Cambodia', 'Kenya',\n",
       "       'Congo, Democratic Republic of the', 'Laos', 'Bangladesh',\n",
       "       'Nigeria', 'Benin', 'Zambia', 'Bahamas', \"Cote d'Ivoire\",\n",
       "       'Ethiopia', 'Djibouti', 'Indonesia', 'Togo', 'Philippines',\n",
       "       'Myanmar', 'Mozambique', 'Eritrea', 'Ukraine', 'South Sudan',\n",
       "       'Sudan', 'Kyrgyz Republic', 'Uzbekistan', 'Ecuador', 'Mauritania',\n",
       "       'Kazakhstan', 'Jordan', 'Niger', 'Mauritius', 'Pakistan', 'Mali',\n",
       "       'Hungary', 'Serbia', 'Belarus', 'Morocco', 'Regional', 'Malawi',\n",
       "       'Egypt', 'Tanzania', 'Congo, Republic of the', 'Fiji', 'Nepal',\n",
       "       'Rwanda', 'Ghana', 'Senegal', 'Sri Lanka', 'Argentina', 'Guyana',\n",
       "       'Trinidad and Tobago', 'Maldives', 'Bolivia', 'Vietnam', 'Gabon',\n",
       "       'Montenegro', 'Papua New Guinea', 'Samoa', 'Iran', 'Cameroon',\n",
       "       'Venezuela', 'Timor-Leste', 'Peru', 'Tajikistan', 'Malaysia',\n",
       "       'Dominican Republic', 'Uganda', 'Russian Federation', 'Madagascar',\n",
       "       'Turkmenistan', 'Jamaica', 'Gambia', 'Lesotho', 'Zimbabwe',\n",
       "       'Mongolia', 'Cuba', 'Guinea', 'Macedonia', 'Vanuatu',\n",
       "       'Equatorial Guinea', 'Grenada', 'South Africa', 'Namibia', 'Chad',\n",
       "       'Tonga', 'Barbados', 'Liberia', 'Costa Rica', 'Antigua & Barbuda',\n",
       "       'Comoros', 'Mexico', 'Tunisia', 'Bosnia & Herzegovina'],\n",
       "      dtype=object)"
      ]
     },
     "execution_count": 8,
     "metadata": {},
     "output_type": "execute_result"
    }
   ],
   "source": [
    "#list all countries\n",
    "df['Country'].unique()"
   ]
  },
  {
   "cell_type": "code",
   "execution_count": 9,
   "metadata": {},
   "outputs": [
    {
     "data": {
      "text/html": [
       "<div>\n",
       "<style scoped>\n",
       "    .dataframe tbody tr th:only-of-type {\n",
       "        vertical-align: middle;\n",
       "    }\n",
       "\n",
       "    .dataframe tbody tr th {\n",
       "        vertical-align: top;\n",
       "    }\n",
       "\n",
       "    .dataframe thead th {\n",
       "        text-align: right;\n",
       "    }\n",
       "</style>\n",
       "<table border=\"1\" class=\"dataframe\">\n",
       "  <thead>\n",
       "    <tr style=\"text-align: right;\">\n",
       "      <th></th>\n",
       "      <th>Title</th>\n",
       "      <th>YEAR</th>\n",
       "      <th>AMOUNT</th>\n",
       "      <th>LENDER</th>\n",
       "      <th>BORROWER</th>\n",
       "      <th>SECTOR</th>\n",
       "      <th>SENSITIVE TERRITORY OVERLAP</th>\n",
       "      <th>Country</th>\n",
       "    </tr>\n",
       "  </thead>\n",
       "  <tbody>\n",
       "    <tr>\n",
       "      <th>0</th>\n",
       "      <td>“Lar Patriota\" Infrastructure (Phase 1)</td>\n",
       "      <td>2011</td>\n",
       "      <td>$50M</td>\n",
       "      <td>CDB</td>\n",
       "      <td>Government</td>\n",
       "      <td>Transport</td>\n",
       "      <td>None Known</td>\n",
       "      <td>Angola</td>\n",
       "    </tr>\n",
       "    <tr>\n",
       "      <th>1</th>\n",
       "      <td>10-Year Oil Supply Plan (10Mt/Year), \"Oil for ...</td>\n",
       "      <td>2009</td>\n",
       "      <td>$7.0B</td>\n",
       "      <td>CDB</td>\n",
       "      <td>Petrobras</td>\n",
       "      <td>Extraction, pipelines</td>\n",
       "      <td>None Known</td>\n",
       "      <td>Brazil</td>\n",
       "    </tr>\n",
       "    <tr>\n",
       "      <th>2</th>\n",
       "      <td>1000 housing project</td>\n",
       "      <td>2012</td>\n",
       "      <td>$47M</td>\n",
       "      <td>ExImBank</td>\n",
       "      <td>Government</td>\n",
       "      <td>Government</td>\n",
       "      <td>None Known</td>\n",
       "      <td>Suriname</td>\n",
       "    </tr>\n",
       "    <tr>\n",
       "      <th>3</th>\n",
       "      <td>115kV Transmission Line and Substation from Ph...</td>\n",
       "      <td>2009</td>\n",
       "      <td>$475M</td>\n",
       "      <td>ExImBank</td>\n",
       "      <td>Electricite Du Cambodge</td>\n",
       "      <td>Power</td>\n",
       "      <td>None Known</td>\n",
       "      <td>Cambodia</td>\n",
       "    </tr>\n",
       "    <tr>\n",
       "      <th>4</th>\n",
       "      <td>151 Multisector infrastructure projects</td>\n",
       "      <td>2016</td>\n",
       "      <td>$600M</td>\n",
       "      <td>CDB</td>\n",
       "      <td>Central Bank of Kenya</td>\n",
       "      <td>Mulit-sector/discretionary</td>\n",
       "      <td>None Known</td>\n",
       "      <td>Kenya</td>\n",
       "    </tr>\n",
       "    <tr>\n",
       "      <th>...</th>\n",
       "      <td>...</td>\n",
       "      <td>...</td>\n",
       "      <td>...</td>\n",
       "      <td>...</td>\n",
       "      <td>...</td>\n",
       "      <td>...</td>\n",
       "      <td>...</td>\n",
       "      <td>...</td>\n",
       "    </tr>\n",
       "    <tr>\n",
       "      <th>853</th>\n",
       "      <td>Zalingei-El Geneinah Road Construction</td>\n",
       "      <td>2009</td>\n",
       "      <td>$120M</td>\n",
       "      <td>ExImBank</td>\n",
       "      <td>Government</td>\n",
       "      <td>Transport</td>\n",
       "      <td>None Known</td>\n",
       "      <td>Sudan</td>\n",
       "    </tr>\n",
       "    <tr>\n",
       "      <th>854</th>\n",
       "      <td>Zanzibar Airport Terminal 2 Expansion</td>\n",
       "      <td>2010</td>\n",
       "      <td>$73M</td>\n",
       "      <td>ExImBank</td>\n",
       "      <td>Government</td>\n",
       "      <td>Transport</td>\n",
       "      <td>None Known</td>\n",
       "      <td>Tanzania</td>\n",
       "    </tr>\n",
       "    <tr>\n",
       "      <th>855</th>\n",
       "      <td>Zemun-Borca bridge</td>\n",
       "      <td>2009</td>\n",
       "      <td>$217M</td>\n",
       "      <td>ExImBank</td>\n",
       "      <td>Government</td>\n",
       "      <td>Transport</td>\n",
       "      <td>None Known</td>\n",
       "      <td>Serbia</td>\n",
       "    </tr>\n",
       "    <tr>\n",
       "      <th>856</th>\n",
       "      <td>Zongo II Hydropower Station</td>\n",
       "      <td>2011</td>\n",
       "      <td>$367M</td>\n",
       "      <td>ExImBank</td>\n",
       "      <td>Government</td>\n",
       "      <td>Power</td>\n",
       "      <td>None Known</td>\n",
       "      <td>Congo, Democratic Republic of the</td>\n",
       "    </tr>\n",
       "    <tr>\n",
       "      <th>857</th>\n",
       "      <td>Zungeru Hydropower Plant Project</td>\n",
       "      <td>2013</td>\n",
       "      <td>$984M</td>\n",
       "      <td>ExImBank</td>\n",
       "      <td>Government</td>\n",
       "      <td>Power</td>\n",
       "      <td>Within Indigenous Peoples' Lands</td>\n",
       "      <td>Nigeria</td>\n",
       "    </tr>\n",
       "  </tbody>\n",
       "</table>\n",
       "<p>858 rows × 8 columns</p>\n",
       "</div>"
      ],
      "text/plain": [
       "                                                 Title  YEAR AMOUNT    LENDER  \\\n",
       "0              “Lar Patriota\" Infrastructure (Phase 1)  2011   $50M       CDB   \n",
       "1    10-Year Oil Supply Plan (10Mt/Year), \"Oil for ...  2009  $7.0B       CDB   \n",
       "2                                 1000 housing project  2012   $47M  ExImBank   \n",
       "3    115kV Transmission Line and Substation from Ph...  2009  $475M  ExImBank   \n",
       "4              151 Multisector infrastructure projects  2016  $600M       CDB   \n",
       "..                                                 ...   ...    ...       ...   \n",
       "853             Zalingei-El Geneinah Road Construction  2009  $120M  ExImBank   \n",
       "854              Zanzibar Airport Terminal 2 Expansion  2010   $73M  ExImBank   \n",
       "855                                 Zemun-Borca bridge  2009  $217M  ExImBank   \n",
       "856                        Zongo II Hydropower Station  2011  $367M  ExImBank   \n",
       "857                   Zungeru Hydropower Plant Project  2013  $984M  ExImBank   \n",
       "\n",
       "                    BORROWER                      SECTOR  \\\n",
       "0                 Government                   Transport   \n",
       "1                  Petrobras       Extraction, pipelines   \n",
       "2                 Government                  Government   \n",
       "3    Electricite Du Cambodge                       Power   \n",
       "4      Central Bank of Kenya  Mulit-sector/discretionary   \n",
       "..                       ...                         ...   \n",
       "853               Government                   Transport   \n",
       "854               Government                   Transport   \n",
       "855               Government                   Transport   \n",
       "856               Government                       Power   \n",
       "857               Government                       Power   \n",
       "\n",
       "          SENSITIVE TERRITORY OVERLAP                            Country  \n",
       "0                          None Known                             Angola  \n",
       "1                          None Known                             Brazil  \n",
       "2                          None Known                           Suriname  \n",
       "3                          None Known                           Cambodia  \n",
       "4                          None Known                              Kenya  \n",
       "..                                ...                                ...  \n",
       "853                        None Known                              Sudan  \n",
       "854                        None Known                           Tanzania  \n",
       "855                        None Known                             Serbia  \n",
       "856                        None Known  Congo, Democratic Republic of the  \n",
       "857  Within Indigenous Peoples' Lands                            Nigeria  \n",
       "\n",
       "[858 rows x 8 columns]"
      ]
     },
     "execution_count": 9,
     "metadata": {},
     "output_type": "execute_result"
    }
   ],
   "source": [
    "df.rename(columns={\"Expand All | Collapse All\": \"Title\"})"
   ]
  },
  {
   "cell_type": "code",
   "execution_count": 10,
   "metadata": {},
   "outputs": [
    {
     "data": {
      "text/plain": [
       "2016    133\n",
       "2011    106\n",
       "2013     91\n",
       "2012     86\n",
       "2015     79\n",
       "2017     75\n",
       "2009     70\n",
       "2014     70\n",
       "2010     58\n",
       "2018     45\n",
       "2008     40\n",
       "2019      5\n",
       "Name: YEAR, dtype: int64"
      ]
     },
     "execution_count": 10,
     "metadata": {},
     "output_type": "execute_result"
    }
   ],
   "source": [
    "#range of the data in years\n",
    "df[\"YEAR\"].value_counts()"
   ]
  },
  {
   "cell_type": "code",
   "execution_count": 11,
   "metadata": {},
   "outputs": [],
   "source": [
    "def convert_monetary_string(monetary_string):\n",
    "    if monetary_string[-1] == 'K':\n",
    "        return int(float(monetary_string[1:-1]) * 1000)\n",
    "    elif monetary_string[-1] == 'M':\n",
    "        return int(float(monetary_string[1:-1]) * 1000000)\n",
    "    elif monetary_string[-1] == 'B':\n",
    "        return int(float(monetary_string[1:-1]) * 1000000000)\n",
    "    else:\n",
    "        return int(monetary_string[1:])"
   ]
  },
  {
   "cell_type": "code",
   "execution_count": 12,
   "metadata": {},
   "outputs": [
    {
     "data": {
      "text/html": [
       "<div>\n",
       "<style scoped>\n",
       "    .dataframe tbody tr th:only-of-type {\n",
       "        vertical-align: middle;\n",
       "    }\n",
       "\n",
       "    .dataframe tbody tr th {\n",
       "        vertical-align: top;\n",
       "    }\n",
       "\n",
       "    .dataframe thead th {\n",
       "        text-align: right;\n",
       "    }\n",
       "</style>\n",
       "<table border=\"1\" class=\"dataframe\">\n",
       "  <thead>\n",
       "    <tr style=\"text-align: right;\">\n",
       "      <th></th>\n",
       "      <th>Expand All | Collapse All</th>\n",
       "      <th>YEAR</th>\n",
       "      <th>AMOUNT</th>\n",
       "      <th>LENDER</th>\n",
       "      <th>BORROWER</th>\n",
       "      <th>SECTOR</th>\n",
       "      <th>SENSITIVE TERRITORY OVERLAP</th>\n",
       "      <th>Country</th>\n",
       "    </tr>\n",
       "  </thead>\n",
       "  <tbody>\n",
       "    <tr>\n",
       "      <th>0</th>\n",
       "      <td>“Lar Patriota\" Infrastructure (Phase 1)</td>\n",
       "      <td>2011</td>\n",
       "      <td>50000000</td>\n",
       "      <td>CDB</td>\n",
       "      <td>Government</td>\n",
       "      <td>Transport</td>\n",
       "      <td>None Known</td>\n",
       "      <td>Angola</td>\n",
       "    </tr>\n",
       "    <tr>\n",
       "      <th>1</th>\n",
       "      <td>10-Year Oil Supply Plan (10Mt/Year), \"Oil for ...</td>\n",
       "      <td>2009</td>\n",
       "      <td>7000000000</td>\n",
       "      <td>CDB</td>\n",
       "      <td>Petrobras</td>\n",
       "      <td>Extraction, pipelines</td>\n",
       "      <td>None Known</td>\n",
       "      <td>Brazil</td>\n",
       "    </tr>\n",
       "    <tr>\n",
       "      <th>2</th>\n",
       "      <td>1000 housing project</td>\n",
       "      <td>2012</td>\n",
       "      <td>47000000</td>\n",
       "      <td>ExImBank</td>\n",
       "      <td>Government</td>\n",
       "      <td>Government</td>\n",
       "      <td>None Known</td>\n",
       "      <td>Suriname</td>\n",
       "    </tr>\n",
       "    <tr>\n",
       "      <th>3</th>\n",
       "      <td>115kV Transmission Line and Substation from Ph...</td>\n",
       "      <td>2009</td>\n",
       "      <td>475000000</td>\n",
       "      <td>ExImBank</td>\n",
       "      <td>Electricite Du Cambodge</td>\n",
       "      <td>Power</td>\n",
       "      <td>None Known</td>\n",
       "      <td>Cambodia</td>\n",
       "    </tr>\n",
       "    <tr>\n",
       "      <th>4</th>\n",
       "      <td>151 Multisector infrastructure projects</td>\n",
       "      <td>2016</td>\n",
       "      <td>600000000</td>\n",
       "      <td>CDB</td>\n",
       "      <td>Central Bank of Kenya</td>\n",
       "      <td>Mulit-sector/discretionary</td>\n",
       "      <td>None Known</td>\n",
       "      <td>Kenya</td>\n",
       "    </tr>\n",
       "    <tr>\n",
       "      <th>...</th>\n",
       "      <td>...</td>\n",
       "      <td>...</td>\n",
       "      <td>...</td>\n",
       "      <td>...</td>\n",
       "      <td>...</td>\n",
       "      <td>...</td>\n",
       "      <td>...</td>\n",
       "      <td>...</td>\n",
       "    </tr>\n",
       "    <tr>\n",
       "      <th>853</th>\n",
       "      <td>Zalingei-El Geneinah Road Construction</td>\n",
       "      <td>2009</td>\n",
       "      <td>120000000</td>\n",
       "      <td>ExImBank</td>\n",
       "      <td>Government</td>\n",
       "      <td>Transport</td>\n",
       "      <td>None Known</td>\n",
       "      <td>Sudan</td>\n",
       "    </tr>\n",
       "    <tr>\n",
       "      <th>854</th>\n",
       "      <td>Zanzibar Airport Terminal 2 Expansion</td>\n",
       "      <td>2010</td>\n",
       "      <td>73000000</td>\n",
       "      <td>ExImBank</td>\n",
       "      <td>Government</td>\n",
       "      <td>Transport</td>\n",
       "      <td>None Known</td>\n",
       "      <td>Tanzania</td>\n",
       "    </tr>\n",
       "    <tr>\n",
       "      <th>855</th>\n",
       "      <td>Zemun-Borca bridge</td>\n",
       "      <td>2009</td>\n",
       "      <td>217000000</td>\n",
       "      <td>ExImBank</td>\n",
       "      <td>Government</td>\n",
       "      <td>Transport</td>\n",
       "      <td>None Known</td>\n",
       "      <td>Serbia</td>\n",
       "    </tr>\n",
       "    <tr>\n",
       "      <th>856</th>\n",
       "      <td>Zongo II Hydropower Station</td>\n",
       "      <td>2011</td>\n",
       "      <td>367000000</td>\n",
       "      <td>ExImBank</td>\n",
       "      <td>Government</td>\n",
       "      <td>Power</td>\n",
       "      <td>None Known</td>\n",
       "      <td>Congo, Democratic Republic of the</td>\n",
       "    </tr>\n",
       "    <tr>\n",
       "      <th>857</th>\n",
       "      <td>Zungeru Hydropower Plant Project</td>\n",
       "      <td>2013</td>\n",
       "      <td>984000000</td>\n",
       "      <td>ExImBank</td>\n",
       "      <td>Government</td>\n",
       "      <td>Power</td>\n",
       "      <td>Within Indigenous Peoples' Lands</td>\n",
       "      <td>Nigeria</td>\n",
       "    </tr>\n",
       "  </tbody>\n",
       "</table>\n",
       "<p>858 rows × 8 columns</p>\n",
       "</div>"
      ],
      "text/plain": [
       "                             Expand All | Collapse All  YEAR      AMOUNT  \\\n",
       "0              “Lar Patriota\" Infrastructure (Phase 1)  2011    50000000   \n",
       "1    10-Year Oil Supply Plan (10Mt/Year), \"Oil for ...  2009  7000000000   \n",
       "2                                 1000 housing project  2012    47000000   \n",
       "3    115kV Transmission Line and Substation from Ph...  2009   475000000   \n",
       "4              151 Multisector infrastructure projects  2016   600000000   \n",
       "..                                                 ...   ...         ...   \n",
       "853             Zalingei-El Geneinah Road Construction  2009   120000000   \n",
       "854              Zanzibar Airport Terminal 2 Expansion  2010    73000000   \n",
       "855                                 Zemun-Borca bridge  2009   217000000   \n",
       "856                        Zongo II Hydropower Station  2011   367000000   \n",
       "857                   Zungeru Hydropower Plant Project  2013   984000000   \n",
       "\n",
       "       LENDER                 BORROWER                      SECTOR  \\\n",
       "0         CDB               Government                   Transport   \n",
       "1         CDB                Petrobras       Extraction, pipelines   \n",
       "2    ExImBank               Government                  Government   \n",
       "3    ExImBank  Electricite Du Cambodge                       Power   \n",
       "4         CDB    Central Bank of Kenya  Mulit-sector/discretionary   \n",
       "..        ...                      ...                         ...   \n",
       "853  ExImBank               Government                   Transport   \n",
       "854  ExImBank               Government                   Transport   \n",
       "855  ExImBank               Government                   Transport   \n",
       "856  ExImBank               Government                       Power   \n",
       "857  ExImBank               Government                       Power   \n",
       "\n",
       "          SENSITIVE TERRITORY OVERLAP                            Country  \n",
       "0                          None Known                             Angola  \n",
       "1                          None Known                             Brazil  \n",
       "2                          None Known                           Suriname  \n",
       "3                          None Known                           Cambodia  \n",
       "4                          None Known                              Kenya  \n",
       "..                                ...                                ...  \n",
       "853                        None Known                              Sudan  \n",
       "854                        None Known                           Tanzania  \n",
       "855                        None Known                             Serbia  \n",
       "856                        None Known  Congo, Democratic Republic of the  \n",
       "857  Within Indigenous Peoples' Lands                            Nigeria  \n",
       "\n",
       "[858 rows x 8 columns]"
      ]
     },
     "execution_count": 12,
     "metadata": {},
     "output_type": "execute_result"
    }
   ],
   "source": [
    "df[\"AMOUNT\"] = df[\"AMOUNT\"].apply(convert_monetary_string)\n",
    "df"
   ]
  },
  {
   "cell_type": "code",
   "execution_count": 13,
   "metadata": {},
   "outputs": [
    {
     "data": {
      "text/plain": [
       "<Axes: ylabel='AMOUNT'>"
      ]
     },
     "execution_count": 13,
     "metadata": {},
     "output_type": "execute_result"
    },
    {
     "data": {
      "image/png": "[encoded data removed]",
      "text/plain": [
       "<Figure size 1000x1000 with 1 Axes>"
      ]
     },
     "metadata": {},
     "output_type": "display_data"
    }
   ],
   "source": [
    "#make a pie chart of the total amount of debt by each sector in the year 2019\n",
    "df_2019 = df[df[\"YEAR\"] == 2019]\n",
    "df_2019.groupby('SECTOR')['AMOUNT'].sum().plot(kind='pie', figsize=(10,10), autopct='%1.1f%%')\n",
    "#df.groupby('SECTOR')['AMOUNT'].sum().plot(kind='pie', figsize=(10,10), autopct='%1.1f%%')\n"
   ]
  },
  {
   "cell_type": "code",
   "execution_count": 14,
   "metadata": {},
   "outputs": [
    {
     "data": {
      "text/plain": [
       "<Axes: xlabel='YEAR'>"
      ]
     },
     "execution_count": 14,
     "metadata": {},
     "output_type": "execute_result"
    },
    {
     "data": {
      "image/png": "[encoded data removed]",
      "text/plain": [
       "<Figure size 1000x1000 with 1 Axes>"
      ]
     },
     "metadata": {},
     "output_type": "display_data"
    }
   ],
   "source": [
    "#make a bar graph for year and amount of debt\n",
    "df.groupby('YEAR')['AMOUNT'].sum().plot(kind='bar', figsize=(10,10))"
   ]
  },
  {
   "cell_type": "code",
   "execution_count": 21,
   "metadata": {},
   "outputs": [
    {
     "data": {
      "text/plain": [
       "<Axes: xlabel='Country'>"
      ]
     },
     "execution_count": 21,
     "metadata": {},
     "output_type": "execute_result"
    },
    {
     "data": {
      "image/png": "[encoded data removed]",
      "text/plain": [
       "<Figure size 1000x1000 with 1 Axes>"
      ]
     },
     "metadata": {},
     "output_type": "display_data"
    }
   ],
   "source": [
    "#plot top 7 countries with the most debt\n",
    "df.groupby('Country')['AMOUNT'].sum().nlargest(7).plot(kind='bar', figsize=(10,10))"
   ]
  },
  {
   "cell_type": "code",
   "execution_count": 22,
   "metadata": {},
   "outputs": [
    {
     "data": {
      "text/plain": [
       "<Axes: xlabel='LENDER'>"
      ]
     },
     "execution_count": 22,
     "metadata": {},
     "output_type": "execute_result"
    },
    {
     "data": {
      "image/png": "[encoded data removed]",
      "text/plain": [
       "<Figure size 1000x1000 with 1 Axes>"
      ]
     },
     "metadata": {},
     "output_type": "display_data"
    }
   ],
   "source": [
    "#plot top 7 lenders with the most debt\n",
    "df.groupby('LENDER')['AMOUNT'].sum().nlargest(7).plot(kind='bar', figsize=(10,10))"
   ]
  },
  {
   "cell_type": "code",
   "execution_count": 24,
   "metadata": {},
   "outputs": [
    {
     "data": {
      "text/plain": [
       "<Axes: xlabel='SECTOR'>"
      ]
     },
     "execution_count": 24,
     "metadata": {},
     "output_type": "execute_result"
    },
    {
     "data": {
      "image/png": "[encoded data removed]",
      "text/plain": [
       "<Figure size 1000x1000 with 1 Axes>"
      ]
     },
     "metadata": {},
     "output_type": "display_data"
    }
   ],
   "source": [
    "#plot top 7 sectors with the most debt\n",
    "df.groupby('SECTOR')['AMOUNT'].sum().nlargest(7).plot(kind='bar', figsize=(10,10))"
   ]
  },
  {
   "cell_type": "code",
   "execution_count": null,
   "metadata": {},
   "outputs": [],
   "source": []
  }
 ],
 "metadata": {
  "kernelspec": {
   "display_name": "ds",
   "language": "python",
   "name": "python3"
  },
  "language_info": {
   "codemirror_mode": {
    "name": "ipython",
    "version": 3
   },
   "file_extension": ".py",
   "mimetype": "text/x-python",
   "name": "python",
   "nbconvert_exporter": "python",
   "pygments_lexer": "ipython3",
   "version": "3.10.4"
  },
  "orig_nbformat": 4
 },
 "nbformat": 4,
 "nbformat_minor": 2
}
